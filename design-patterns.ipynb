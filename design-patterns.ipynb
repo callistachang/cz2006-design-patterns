{
 "cells": [
  {
   "cell_type": "markdown",
   "metadata": {},
   "source": [
    "# Design Patterns in CZ2006"
   ]
  },
  {
   "cell_type": "markdown",
   "metadata": {},
   "source": [
    "### Questions to Keep in Mind\n",
    "\n",
    "1. When should I apply a design pattern?\n",
    "2. What problem is the pattern trying to solve?\n",
    "3. How does the design pattern work?\n",
    "4. What are the benefits and costs of applying the design pattern?"
   ]
  },
  {
   "cell_type": "code",
   "execution_count": 2,
   "metadata": {},
   "outputs": [],
   "source": [
    "from abc import ABC, abstractmethod\n",
    "import random"
   ]
  },
  {
   "cell_type": "markdown",
   "metadata": {},
   "source": [
    "## Strategy Pattern\n",
    "\n",
    "The Strategy Pattern defines a family of algorithms, encapsulates each one, and makes them interchangeable. Strategy lets the algorithm vary independently from the clients that use it.\n",
    "\n",
    "**It enables selecting an algorithm at runtime.**\n",
    "\n",
    "![](uml-diagrams/strategy-pattern.png)"
   ]
  },
  {
   "cell_type": "markdown",
   "metadata": {},
   "source": [
    "Note to self: Focus on the has-a relationship between Context and AbstractStrategy. It's kind of like letting a class have a behavior as its attribute. E.g. Context could have a ContextStrategyA algorithm as its attribute. When it wants to do carry out its business logic utilizing the algorithm, it simply calls performStrategy. It doesn't know how to perform the algorithm - that's for AbstractStrategy to take care of."
   ]
  },
  {
   "cell_type": "markdown",
   "metadata": {},
   "source": [
    "#### Pros of Strategy Pattern\n",
    "\n",
    "1. Encapsulation\n",
    "2. Implementation hiding\n",
    "3. Ability to change behavior at runtime\n",
    "\n",
    "#### Cons of Strategy Pattern\n",
    "\n",
    "1. Complex, hard-to-understand code"
   ]
  },
  {
   "cell_type": "markdown",
   "metadata": {},
   "source": [
    "### Skelly Code"
   ]
  },
  {
   "cell_type": "code",
   "execution_count": 12,
   "metadata": {},
   "outputs": [
    {
     "name": "stdout",
     "output_type": "stream",
     "text": [
      "I'm ConcreteStrategyA!\n",
      "---\n",
      "I'm ConcreteStrategyB!\n"
     ]
    }
   ],
   "source": [
    "\"\"\"\n",
    "The class that the client is interested in.\n",
    "\"\"\"\n",
    "class Context:\n",
    "    # Pass a Strategy object into the constructor\n",
    "    def __init__(self, strategy):\n",
    "        self.strategy = strategy\n",
    "    \n",
    "    # Allows the replacement of a Strategy object at runtime\n",
    "    def setStrategy(self, strategy):\n",
    "        self.strategy = strategy\n",
    "    \n",
    "    # Instead of implementing multiple versions of doSomething on its own,\n",
    "    # The work is delegated to the Strategy object\n",
    "    def doBusinessLogic(self):\n",
    "        self.strategy.doSomething()\n",
    "\n",
    "\"\"\"\n",
    "Interface declaring operations common to all versions of some algorithm.\n",
    "Context uses this interface to call the algorithm defined by Concrete Strategies.\n",
    "Context doesn't know how Strategy will do it, but it knows it'll get done.\n",
    "\"\"\"    \n",
    "class AbstractStrategy(ABC):\n",
    "    @abstractmethod\n",
    "    def doSomething(self):\n",
    "        pass\n",
    "\n",
    "\"\"\"\n",
    "Implementations of AbstractStrategy.\n",
    "\"\"\"\n",
    "class ConcreteStrategyA(AbstractStrategy):\n",
    "    def doSomething(self):\n",
    "        print(\"I'm ConcreteStrategyA!\")\n",
    "        \n",
    "class ConcreteStrategyB(AbstractStrategy):\n",
    "    def doSomething(self):\n",
    "        print(\"I'm ConcreteStrategyB!\")\n",
    "        \n",
    "c = Context(ConcreteStrategyA())\n",
    "c.doBusinessLogic()\n",
    "\n",
    "print(\"---\")\n",
    "\n",
    "c.setStrategy(ConcreteStrategyB())\n",
    "c.doBusinessLogic()"
   ]
  },
  {
   "cell_type": "markdown",
   "metadata": {},
   "source": [
    "### Example 1: Duckies"
   ]
  },
  {
   "cell_type": "code",
   "execution_count": 8,
   "metadata": {},
   "outputs": [],
   "source": [
    "class FlyBehavior(ABC):\n",
    "    def fly(self):\n",
    "        pass\n",
    "    \n",
    "class FlyWithWings(FlyBehavior):\n",
    "    def fly(self):\n",
    "        print(\"I'm flying!\")\n",
    "        \n",
    "class FlyNoWay(FlyBehavior):\n",
    "    def fly(self):\n",
    "        print(\"I can't fly. :(\");"
   ]
  },
  {
   "cell_type": "code",
   "execution_count": 9,
   "metadata": {},
   "outputs": [],
   "source": [
    "class QuackBehavior(ABC):\n",
    "    @abstractmethod\n",
    "    def quack(self):\n",
    "        pass\n",
    "    \n",
    "class Quack(QuackBehavior):\n",
    "    def quack(self):\n",
    "        print(\"Quack!\");\n",
    "        \n",
    "class MuteQuack(QuackBehavior):\n",
    "    def quack(self):\n",
    "        print(\"...\")\n",
    "        \n",
    "class Squeak(QuackBehavior):\n",
    "    def quack(self):\n",
    "        print(\"Squeak~\")"
   ]
  },
  {
   "cell_type": "code",
   "execution_count": 10,
   "metadata": {},
   "outputs": [],
   "source": [
    "class Duck(ABC):\n",
    "    @abstractmethod\n",
    "    def display(self):\n",
    "        pass\n",
    "    \n",
    "    def performFly(self):\n",
    "        self.flyBehavior.fly()\n",
    "    \n",
    "    def performQuack(self):\n",
    "        self.quackBehavior.quack()\n",
    "        \n",
    "    def swim(self):\n",
    "        print(\"All ducks float, even decoys!\")\n",
    "    \n",
    "    # Methods to change the behavior of a duck on the fly\n",
    "    def setFlyBehavior(self, fb):\n",
    "        self.flyBehavior = fb\n",
    "        \n",
    "    def setQuackBehavior(self, qb):\n",
    "        self.quackBehavior = qb\n",
    "\n",
    "class MallardDuck(Duck):\n",
    "    def __init__(self):\n",
    "        self.quackBehavior = Quack()\n",
    "        self.flyBehavior = FlyWithWings()\n",
    "    \n",
    "    def display(self):\n",
    "        print(\"I'm a mallard duck! uwu\")"
   ]
  },
  {
   "cell_type": "code",
   "execution_count": 11,
   "metadata": {
    "scrolled": true
   },
   "outputs": [
    {
     "name": "stdout",
     "output_type": "stream",
     "text": [
      "Quack!\n",
      "I'm flying!\n",
      "---\n",
      "I can't fly. :(\n"
     ]
    }
   ],
   "source": [
    "mallard = MallardDuck()\n",
    "mallard.performQuack()\n",
    "mallard.performFly()\n",
    "\n",
    "print(\"---\")\n",
    "\n",
    "mallard.setFlyBehavior(FlyNoWay())\n",
    "mallard.performFly()"
   ]
  },
  {
   "cell_type": "markdown",
   "metadata": {},
   "source": [
    "## Observer Pattern\n",
    "\n",
    "The Observer Pattern defines a one-to-many dependency between objects so that when one object changes state, all of its dependents are notified and updated automatically.\n",
    "\n",
    "![](uml-diagrams/observer-pattern.png)"
   ]
  },
  {
   "cell_type": "markdown",
   "metadata": {},
   "source": [
    "#### Pull Model (2-Way Communication)\n",
    "\n",
    "- When the subject's state changes, it notifies its observers **that its state has changed**\n",
    "- If the observer is interested, it can call back for details by calling subject.getData()\n",
    "\n",
    "\n",
    "#### Push Model (1-Way Communication)\n",
    "\n",
    "- When the subject's state changes, it notifies its observers **by sending detailed information about the update**, whether or not the Observer is interested or not\n",
    "- Hence, the observer never needs to call back\n",
    "\n"
   ]
  },
  {
   "cell_type": "markdown",
   "metadata": {},
   "source": [
    "#### Pros of Observer Pattern\n",
    "\n",
    "1. Loose coupling between a Subject and its Observers\n",
    "    - Subjects will notify their Observers once a change occurs\n",
    "    - Observers are allowed to change their interests in a Subject freely\n",
    "    - Observers want to know a Subject's change when it occurs but don't know when it will happen\n",
    "2. Reusability of Subjects and Observers as they are independent of each other\n",
    "3. Broadcast communication\n",
    "\n",
    "#### Cons of Observer Pattern\n",
    "\n",
    "1. Slower performance\n",
    "2. Higher complexity"
   ]
  },
  {
   "cell_type": "markdown",
   "metadata": {},
   "source": [
    "### Skelly Code"
   ]
  },
  {
   "cell_type": "code",
   "execution_count": 36,
   "metadata": {},
   "outputs": [],
   "source": [
    "class AbstractSubject(ABC):\n",
    "    @abstractmethod\n",
    "    def register(self, observer):\n",
    "        pass\n",
    "    \n",
    "    @abstractmethod\n",
    "    def unregister(self, observer):\n",
    "        pass\n",
    "    \n",
    "    @abstractmethod\n",
    "    def notify(self):\n",
    "        pass\n",
    "    \n",
    "class AbstractObserver(ABC):\n",
    "    @abstractmethod\n",
    "    def update(self, subject):\n",
    "        pass"
   ]
  },
  {
   "cell_type": "markdown",
   "metadata": {},
   "source": [
    "### Pull Model"
   ]
  },
  {
   "cell_type": "code",
   "execution_count": 38,
   "metadata": {},
   "outputs": [
    {
     "name": "stdout",
     "output_type": "stream",
     "text": [
      "> ConcreteObserverA was notified of Subject's new state: 4\n",
      "> ConcreteObserverB was notified of Subject's new state: 4\n",
      "---\n",
      "> ConcreteObserverB was notified of Subject's new state: 8\n"
     ]
    }
   ],
   "source": [
    "class ConcreteSubject(AbstractSubject):\n",
    "    state = None\n",
    "    observers = []\n",
    "    \n",
    "    def register(self, observer):\n",
    "        self.observers.append(observer)\n",
    "        \n",
    "    def unregister(self, observer):\n",
    "        self.observers.remove(observer)\n",
    "    \n",
    "    \"\"\"Subject passed as parameter\"\"\"\n",
    "    def notify(self):\n",
    "        for observer in self.observers:\n",
    "            observer.update(self)\n",
    "            \n",
    "    def getState(self):\n",
    "        return self.state\n",
    "            \n",
    "    def doBusinessLogic(self):\n",
    "        self.state = random.randint(0, 10)\n",
    "        self.notify() # Notify when state changes\n",
    "        \n",
    "class ConcreteObserverA(AbstractObserver):\n",
    "    \"\"\"Observer calls Subject's getters\"\"\"\n",
    "    def update(self, subject):        \n",
    "        print(f\"> ConcreteObserverA was notified of Subject's new state: {subject.getState()}\")\n",
    "    \n",
    "class ConcreteObserverB(AbstractObserver):\n",
    "    def update(self, subject):\n",
    "        print(f\"> ConcreteObserverB was notified of Subject's new state: {subject.getState()}\")\n",
    "            \n",
    "subject = ConcreteSubject()\n",
    "\n",
    "# Register new observers\n",
    "observerA = ConcreteObserverA()\n",
    "subject.register(observerA)\n",
    "observerB = ConcreteObserverB()\n",
    "subject.register(observerB)\n",
    "\n",
    "subject.doBusinessLogic()\n",
    "\n",
    "print(\"---\")\n",
    "\n",
    "subject.unregister(observerA)\n",
    "subject.doBusinessLogic()"
   ]
  },
  {
   "cell_type": "markdown",
   "metadata": {},
   "source": [
    "### Push Model\n",
    "\n",
    "Focus on the difference in the subject's **notify() method**, and that the observers' **update() methods** take in the subject's state - not the subject object itself."
   ]
  },
  {
   "cell_type": "code",
   "execution_count": 37,
   "metadata": {},
   "outputs": [
    {
     "name": "stdout",
     "output_type": "stream",
     "text": [
      "> ConcreteObserverA was notified of Subject's new state: 7\n",
      "> ConcreteObserverB was notified of Subject's new state: 7\n",
      "---\n",
      "> ConcreteObserverB was notified of Subject's new state: 7\n"
     ]
    }
   ],
   "source": [
    "class ConcreteSubject(AbstractSubject):\n",
    "    state = None\n",
    "    observers = []\n",
    "    \n",
    "    def register(self, observer):\n",
    "        self.observers.append(observer)\n",
    "        \n",
    "    def unregister(self, observer):\n",
    "        self.observers.remove(observer)\n",
    "\n",
    "    \"\"\"State passed in instead of subject\"\"\"\n",
    "    def notify(self):\n",
    "        for observer in self.observers:\n",
    "            observer.update(self.state) \n",
    "            \n",
    "    def doBusinessLogic(self):\n",
    "        self.state = random.randint(0, 10)\n",
    "        self.notify()\n",
    "        \n",
    "class ConcreteObserverA(AbstractObserver):\n",
    "    def update(self, state):        \n",
    "        print(f\"> ConcreteObserverA was notified of Subject's new state: {state}\")\n",
    "    \n",
    "class ConcreteObserverB(AbstractObserver):\n",
    "    def update(self, state):\n",
    "        print(f\"> ConcreteObserverB was notified of Subject's new state: {state}\")\n",
    "            \n",
    "subject = ConcreteSubject()\n",
    "\n",
    "# Register new observers\n",
    "observerA = ConcreteObserverA()\n",
    "subject.register(observerA)\n",
    "observerB = ConcreteObserverB()\n",
    "subject.register(observerB)\n",
    "\n",
    "subject.doBusinessLogic()\n",
    "\n",
    "print(\"---\")\n",
    "\n",
    "subject.unregister(observerA)\n",
    "subject.doBusinessLogic()"
   ]
  },
  {
   "cell_type": "markdown",
   "metadata": {},
   "source": [
    "## Factory Method Pattern\n",
    "\n",
    "The Factory Method Pattern defines an interface for creating an object, but lets subclasses decide which class to instantiate. Factory Method lets a class defer instantiation to subclasses.\n",
    "\n",
    "![](uml-diagrams/factory-method-pattern.png)\n",
    "\n",
    "Note to self: You are abstracting the Factory and Product. The Factory MUST have a method that creates a Product. Whenever you add a new Product subclass (e.g. ProductX), you just have to add a corresponding Factory (e.g. ConcreteCreatorX). And when you want to initialize ProductX, call:\n",
    "\n",
    "```\n",
    "Creator c = new ConcreteCreatorX()\n",
    "Product x = c.factory_method() // x is an instance of ProductX\n",
    "```"
   ]
  },
  {
   "cell_type": "markdown",
   "metadata": {},
   "source": [
    "### When to Use the Factory Method Pattern\n",
    "\n",
    "1. When you don't know which class (implementing a common superclass) you will instantiate until runtime\n",
    "2. When you don't want to expose the creation logic to the client\n",
    "3. When you want to localize the logic to instantiate objects"
   ]
  },
  {
   "cell_type": "markdown",
   "metadata": {},
   "source": [
    "#### Pros of Factory Method Pattern\n",
    "\n",
    "1. Encapsulate and centralize object creation and class selection\n",
    "2. Greater flexibility in object creation\n",
    "    - Easy to extend/replace/add new subclasses (e.g. different database implementations)\n",
    "    - Easy to change object creation logic (e.g. singleton objects, lazy initialization, etc.)\n",
    "3. Ability to choose which classes to instantiate at runtime"
   ]
  },
  {
   "cell_type": "markdown",
   "metadata": {},
   "source": [
    "### Skelly Code"
   ]
  },
  {
   "cell_type": "code",
   "execution_count": 8,
   "metadata": {},
   "outputs": [
    {
     "name": "stdout",
     "output_type": "stream",
     "text": [
      "Called from the creator:\n",
      "ConcreteProductA is operating...\n",
      "Called from the creator:\n",
      "ConcreteProductB is operating...\n",
      "---\n",
      "ConcreteProductA is operating...\n",
      "---\n",
      "ConcreteProductB is operating...\n",
      "---\n"
     ]
    }
   ],
   "source": [
    "class Creator(ABC):\n",
    "    @abstractmethod\n",
    "    def factory_method(self):\n",
    "        pass\n",
    "    \n",
    "    def doBusinessLogic(self):\n",
    "        product = self.factory_method()\n",
    "        print(\"Called from the creator:\")\n",
    "        product.operation()\n",
    "\n",
    "class ConcreteCreatorA(Creator):\n",
    "    def factory_method(self):\n",
    "        return ConcreteProductA()\n",
    "    \n",
    "class ConcreteCreatorB(Creator):\n",
    "    def factory_method(self):\n",
    "        return ConcreteProductB()\n",
    "    \n",
    "class Product(ABC):\n",
    "    @abstractmethod\n",
    "    def operation(self):\n",
    "        pass\n",
    "    \n",
    "class ConcreteProductA(ABC):\n",
    "    def operation(self):\n",
    "        print(\"ConcreteProductA is operating...\")\n",
    "    \n",
    "class ConcreteProductB(ABC):\n",
    "    def operation(self):\n",
    "        print(\"ConcreteProductB is operating...\")\n",
    "    \n",
    "factory = ConcreteCreatorA()\n",
    "factory.doBusinessLogic()\n",
    "\n",
    "print(\"---\")\n",
    "\n",
    "factory = ConcreteCreatorB()\n",
    "factory.doBusinessLogic()\n",
    "\n",
    "print(\"---\")\n",
    "\n",
    "productA = factoryA.factory_method()\n",
    "productA.operation()\n",
    "\n",
    "print(\"---\")\n",
    "\n",
    "productB = ConcreteCreatorB().factory_method()\n",
    "productB.operation()"
   ]
  },
  {
   "cell_type": "markdown",
   "metadata": {},
   "source": [
    "## Facade Pattern\n",
    "\n",
    "The Facade Pattern provides a unified interface to a set of interfaces in a subsystem. Facade defines a higher-level interface that makes the subsystem easier to use.\n",
    "\n",
    "Basically, it provides **convenient access** to a particular part of the subsystem's functionality. E.g. To convert a video, you would have to rely on `AudioMixer`, `VideoFile`, `CodecFactory`, `BitrateReader`, `OggCompressionCodec`, `MPEG4CompressionCodec` classes. Instead of making your main program work with all these extra classes, you create a facade class `VideoConverter` which encapsulates that functionality and hides it from the rest of the code."
   ]
  },
  {
   "cell_type": "markdown",
   "metadata": {},
   "source": [
    "#### Pros of Facade Pattern\n",
    "\n",
    "1. Easy to use and understand\n",
    "2. Reduced dependencies on other classes\n",
    "3. Client decoupled from complex system\n",
    "\n",
    "#### Cons of Facade Pattern\n",
    "\n",
    "1. Increased complexity\n",
    "2. Decreased runtime performance if there are a lot of Facade classes"
   ]
  },
  {
   "cell_type": "markdown",
   "metadata": {},
   "source": [
    "### Skelly Code"
   ]
  },
  {
   "cell_type": "code",
   "execution_count": 9,
   "metadata": {},
   "outputs": [],
   "source": [
    "class Facade:\n",
    "    def __init__(self, subsystem1, subsystem2):\n",
    "        self.subsystem1 = subsystem1\n",
    "        self.subsystem2 = subsystem2\n",
    "        \n",
    "    def operation(self):\n",
    "        subsystem1.operation()\n",
    "        subsystem2.operation()\n",
    "    \n",
    "class Subsystem1:\n",
    "    def operation(self):\n",
    "        print(\"I'm in Subsystem1!\")\n",
    "    \n",
    "class Subsystem2:\n",
    "    def operation(self):\n",
    "        print(\"I'm in Subsystem2!\")\n",
    "    \n",
    "subsystem1 = Subsystem1()\n",
    "subsystem2 = Subsystem2()\n",
    "facade = Facade(subsystem1, subsystem2)\n",
    "facade.operation()"
   ]
  }
 ],
 "metadata": {
  "kernelspec": {
   "display_name": "Python 3",
   "language": "python",
   "name": "python3"
  },
  "language_info": {
   "codemirror_mode": {
    "name": "ipython",
    "version": 3
   },
   "file_extension": ".py",
   "mimetype": "text/x-python",
   "name": "python",
   "nbconvert_exporter": "python",
   "pygments_lexer": "ipython3",
   "version": "3.6.8"
  }
 },
 "nbformat": 4,
 "nbformat_minor": 2
}
