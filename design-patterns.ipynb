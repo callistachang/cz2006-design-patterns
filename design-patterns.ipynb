{
 "cells": [
  {
   "cell_type": "markdown",
   "metadata": {},
   "source": [
    "# Design Patterns in CZ2006"
   ]
  },
  {
   "cell_type": "code",
   "execution_count": null,
   "metadata": {},
   "outputs": [],
   "source": [
    "from abc import ABC, abstractmethod"
   ]
  },
  {
   "cell_type": "markdown",
   "metadata": {},
   "source": [
    "## Strategy Pattern\n",
    "\n",
    "The Strategy Pattern defines a family of algorithms, encapsulates each one, and makes them interchangeable. Strategy lets the algorithm vary independently from the clients that use it.\n",
    "\n",
    "**It enables selecting an algorithm at runtime.**\n",
    "\n",
    "![](uml-diagrams/strategy-pattern.png)"
   ]
  },
  {
   "cell_type": "markdown",
   "metadata": {},
   "source": [
    "Basically, it's when you make a class have a behavior as an attribute. E.g. Context's strategy attribute could be a ContextStrategyA object. When Context wants to do something with a strategy, it simply calls performStrategy, letting the implementation details be carried out by AbstractStrategy itself. Focus on the has-a relationship.\n",
    "\n",
    "Focus on the has-a relationship between Context and AbstractStrategy. It's kind of like letting a class have a behavior as its attribute.\n",
    "\n",
    "E.g. Context could have a ContextStrategyA algorithm as its attribute. When it wants to do carry out its business logic utilizing the algorithm, it simply calls performStrategy"
   ]
  },
  {
   "cell_type": "markdown",
   "metadata": {},
   "source": [
    "### Benefits of Strategy Pattern\n",
    "\n",
    "???"
   ]
  },
  {
   "cell_type": "markdown",
   "metadata": {},
   "source": [
    "### Skelly Code"
   ]
  },
  {
   "cell_type": "code",
   "execution_count": 40,
   "metadata": {},
   "outputs": [
    {
     "name": "stdout",
     "output_type": "stream",
     "text": [
      "I'm ConcreteStrategyA!\n",
      "I'm ConcreteStrategyB!\n"
     ]
    }
   ],
   "source": [
    "\"\"\"\n",
    "The class that the client is interested in.\n",
    "\"\"\"\n",
    "class Context:\n",
    "    # Pass a Strategy object into the constructor\n",
    "    def __init__(self, strategy):\n",
    "        self.strategy = strategy\n",
    "    \n",
    "    # Allows the replacement of a Strategy object at runtime\n",
    "    def setStrategy(self, strategy):\n",
    "        self.strategy = strategy\n",
    "    \n",
    "    # Instead of implementing multiple versions of doSomething on its own,\n",
    "    # The work is delegated to the Strategy object\n",
    "    def performStrategy(self):\n",
    "        self.strategy.doSomething()\n",
    "\n",
    "\"\"\"\n",
    "Interface declaring operations common to all versions of some algorithm.\n",
    "Context uses this interface to call the algorithm defined by Concrete Strategies.\n",
    "Context doesn't know how Strategy will do it, but it knows it'll get done.\n",
    "\"\"\"    \n",
    "class AbstractStrategy(ABC):\n",
    "    @abstractmethod\n",
    "    def doSomething(self):\n",
    "        pass\n",
    "\n",
    "\"\"\"\n",
    "Implementations of AbstractStrategy.\n",
    "\"\"\"\n",
    "class ConcreteStrategyA(AbstractStrategy):\n",
    "    def doSomething(self):\n",
    "        print(\"I'm ConcreteStrategyA!\")\n",
    "        \n",
    "class ConcreteStrategyB(AbstractStrategy):\n",
    "    def doSomething(self):\n",
    "        print(\"I'm ConcreteStrategyB!\")\n",
    "        \n",
    "c = Context(ConcreteStrategyA())\n",
    "c.performStrategy()\n",
    "\n",
    "c.setStrategy(ConcreteStrategyB())\n",
    "c.performStrategy()"
   ]
  },
  {
   "cell_type": "markdown",
   "metadata": {},
   "source": [
    "### Example 1: Duckies"
   ]
  },
  {
   "cell_type": "code",
   "execution_count": 25,
   "metadata": {},
   "outputs": [],
   "source": [
    "class FlyBehavior(ABC):\n",
    "    def fly(self):\n",
    "        pass\n",
    "    \n",
    "class FlyWithWings(FlyBehavior):\n",
    "    def fly(self):\n",
    "        print(\"I'm flying!\")\n",
    "        \n",
    "class FlyNoWay(FlyBehavior):\n",
    "    def fly(self):\n",
    "        print(\"I can't fly. :(\");"
   ]
  },
  {
   "cell_type": "code",
   "execution_count": 26,
   "metadata": {},
   "outputs": [],
   "source": [
    "class QuackBehavior(ABC):\n",
    "    @abstractmethod\n",
    "    def quack(self):\n",
    "        pass\n",
    "    \n",
    "class Quack(QuackBehavior):\n",
    "    def quack(self):\n",
    "        print(\"Quack!\");\n",
    "        \n",
    "class MuteQuack(QuackBehavior):\n",
    "    def quack(self):\n",
    "        print(\"...\")\n",
    "        \n",
    "class Squeak(QuackBehavior):\n",
    "    def quack(self):\n",
    "        print(\"Squeak~\")"
   ]
  },
  {
   "cell_type": "code",
   "execution_count": 32,
   "metadata": {},
   "outputs": [],
   "source": [
    "class Duck(ABC):\n",
    "    @abstractmethod\n",
    "    def display(self):\n",
    "        pass\n",
    "    \n",
    "    def performFly(self):\n",
    "        self.flyBehavior.fly()\n",
    "    \n",
    "    def performQuack(self):\n",
    "        self.quackBehavior.quack()\n",
    "        \n",
    "    def swim(self):\n",
    "        print(\"All ducks float, even decoys!\")\n",
    "    \n",
    "    # Methods to change the behavior of a duck on the fly\n",
    "    def setFlyBehavior(self, fb):\n",
    "        self.flyBehavior = fb\n",
    "        \n",
    "    def setQuackBehavior(self, qb):\n",
    "        self.quackBehavior = qb\n",
    "\n",
    "class MallardDuck(Duck):\n",
    "    def __init__(self):\n",
    "        self.quackBehavior = Quack()\n",
    "        self.flyBehavior = FlyWithWings()\n",
    "    \n",
    "    def display(self):\n",
    "        print(\"I'm a mallard duck! uwu\")"
   ]
  },
  {
   "cell_type": "code",
   "execution_count": 35,
   "metadata": {
    "scrolled": true
   },
   "outputs": [
    {
     "name": "stdout",
     "output_type": "stream",
     "text": [
      "Quack!\n",
      "I'm flying!\n",
      "---\n",
      "I can't fly. :(\n"
     ]
    }
   ],
   "source": [
    "mallard = MallardDuck()\n",
    "mallard.performQuack()\n",
    "mallard.performFly()\n",
    "\n",
    "print(\"---\")\n",
    "\n",
    "mallard.setFlyBehavior(FlyNoWay())\n",
    "mallard.performFly()"
   ]
  },
  {
   "cell_type": "markdown",
   "metadata": {},
   "source": [
    "## Observer Pattern"
   ]
  },
  {
   "cell_type": "code",
   "execution_count": null,
   "metadata": {},
   "outputs": [],
   "source": []
  }
 ],
 "metadata": {
  "kernelspec": {
   "display_name": "Python 3",
   "language": "python",
   "name": "python3"
  },
  "language_info": {
   "codemirror_mode": {
    "name": "ipython",
    "version": 3
   },
   "file_extension": ".py",
   "mimetype": "text/x-python",
   "name": "python",
   "nbconvert_exporter": "python",
   "pygments_lexer": "ipython3",
   "version": "3.6.8"
  }
 },
 "nbformat": 4,
 "nbformat_minor": 2
}
