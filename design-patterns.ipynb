{
 "cells": [
  {
   "cell_type": "markdown",
   "metadata": {},
   "source": [
    "# Design Patterns in CZ2006"
   ]
  },
  {
   "cell_type": "code",
   "execution_count": 6,
   "metadata": {},
   "outputs": [],
   "source": [
    "from abc import ABC, abstractmethod\n",
    "import random"
   ]
  },
  {
   "cell_type": "markdown",
   "metadata": {},
   "source": [
    "## Strategy Pattern\n",
    "\n",
    "The Strategy Pattern defines a family of algorithms, encapsulates each one, and makes them interchangeable. Strategy lets the algorithm vary independently from the clients that use it.\n",
    "\n",
    "**It enables selecting an algorithm at runtime.**\n",
    "\n",
    "![](uml-diagrams/strategy-pattern.png)"
   ]
  },
  {
   "cell_type": "markdown",
   "metadata": {},
   "source": [
    "Focus on the has-a relationship between Context and AbstractStrategy. It's kind of like letting a class have a behavior as its attribute. E.g. Context could have a ContextStrategyA algorithm as its attribute. When it wants to do carry out its business logic utilizing the algorithm, it simply calls performStrategy. It doesn't know how to perform the algorithm - that's for AbstractStrategy to take care of."
   ]
  },
  {
   "cell_type": "markdown",
   "metadata": {},
   "source": [
    "### Benefits of Strategy Pattern\n",
    "\n",
    "???"
   ]
  },
  {
   "cell_type": "markdown",
   "metadata": {},
   "source": [
    "### Skelly Code"
   ]
  },
  {
   "cell_type": "code",
   "execution_count": 12,
   "metadata": {},
   "outputs": [
    {
     "name": "stdout",
     "output_type": "stream",
     "text": [
      "I'm ConcreteStrategyA!\n",
      "---\n",
      "I'm ConcreteStrategyB!\n"
     ]
    }
   ],
   "source": [
    "\"\"\"\n",
    "The class that the client is interested in.\n",
    "\"\"\"\n",
    "class Context:\n",
    "    # Pass a Strategy object into the constructor\n",
    "    def __init__(self, strategy):\n",
    "        self.strategy = strategy\n",
    "    \n",
    "    # Allows the replacement of a Strategy object at runtime\n",
    "    def setStrategy(self, strategy):\n",
    "        self.strategy = strategy\n",
    "    \n",
    "    # Instead of implementing multiple versions of doSomething on its own,\n",
    "    # The work is delegated to the Strategy object\n",
    "    def doBusinessLogic(self):\n",
    "        self.strategy.doSomething()\n",
    "\n",
    "\"\"\"\n",
    "Interface declaring operations common to all versions of some algorithm.\n",
    "Context uses this interface to call the algorithm defined by Concrete Strategies.\n",
    "Context doesn't know how Strategy will do it, but it knows it'll get done.\n",
    "\"\"\"    \n",
    "class AbstractStrategy(ABC):\n",
    "    @abstractmethod\n",
    "    def doSomething(self):\n",
    "        pass\n",
    "\n",
    "\"\"\"\n",
    "Implementations of AbstractStrategy.\n",
    "\"\"\"\n",
    "class ConcreteStrategyA(AbstractStrategy):\n",
    "    def doSomething(self):\n",
    "        print(\"I'm ConcreteStrategyA!\")\n",
    "        \n",
    "class ConcreteStrategyB(AbstractStrategy):\n",
    "    def doSomething(self):\n",
    "        print(\"I'm ConcreteStrategyB!\")\n",
    "        \n",
    "c = Context(ConcreteStrategyA())\n",
    "c.doBusinessLogic()\n",
    "\n",
    "print(\"---\")\n",
    "\n",
    "c.setStrategy(ConcreteStrategyB())\n",
    "c.doBusinessLogic()"
   ]
  },
  {
   "cell_type": "markdown",
   "metadata": {},
   "source": [
    "### Example 1: Duckies"
   ]
  },
  {
   "cell_type": "code",
   "execution_count": 8,
   "metadata": {},
   "outputs": [],
   "source": [
    "class FlyBehavior(ABC):\n",
    "    def fly(self):\n",
    "        pass\n",
    "    \n",
    "class FlyWithWings(FlyBehavior):\n",
    "    def fly(self):\n",
    "        print(\"I'm flying!\")\n",
    "        \n",
    "class FlyNoWay(FlyBehavior):\n",
    "    def fly(self):\n",
    "        print(\"I can't fly. :(\");"
   ]
  },
  {
   "cell_type": "code",
   "execution_count": 9,
   "metadata": {},
   "outputs": [],
   "source": [
    "class QuackBehavior(ABC):\n",
    "    @abstractmethod\n",
    "    def quack(self):\n",
    "        pass\n",
    "    \n",
    "class Quack(QuackBehavior):\n",
    "    def quack(self):\n",
    "        print(\"Quack!\");\n",
    "        \n",
    "class MuteQuack(QuackBehavior):\n",
    "    def quack(self):\n",
    "        print(\"...\")\n",
    "        \n",
    "class Squeak(QuackBehavior):\n",
    "    def quack(self):\n",
    "        print(\"Squeak~\")"
   ]
  },
  {
   "cell_type": "code",
   "execution_count": 10,
   "metadata": {},
   "outputs": [],
   "source": [
    "class Duck(ABC):\n",
    "    @abstractmethod\n",
    "    def display(self):\n",
    "        pass\n",
    "    \n",
    "    def performFly(self):\n",
    "        self.flyBehavior.fly()\n",
    "    \n",
    "    def performQuack(self):\n",
    "        self.quackBehavior.quack()\n",
    "        \n",
    "    def swim(self):\n",
    "        print(\"All ducks float, even decoys!\")\n",
    "    \n",
    "    # Methods to change the behavior of a duck on the fly\n",
    "    def setFlyBehavior(self, fb):\n",
    "        self.flyBehavior = fb\n",
    "        \n",
    "    def setQuackBehavior(self, qb):\n",
    "        self.quackBehavior = qb\n",
    "\n",
    "class MallardDuck(Duck):\n",
    "    def __init__(self):\n",
    "        self.quackBehavior = Quack()\n",
    "        self.flyBehavior = FlyWithWings()\n",
    "    \n",
    "    def display(self):\n",
    "        print(\"I'm a mallard duck! uwu\")"
   ]
  },
  {
   "cell_type": "code",
   "execution_count": 11,
   "metadata": {
    "scrolled": true
   },
   "outputs": [
    {
     "name": "stdout",
     "output_type": "stream",
     "text": [
      "Quack!\n",
      "I'm flying!\n",
      "---\n",
      "I can't fly. :(\n"
     ]
    }
   ],
   "source": [
    "mallard = MallardDuck()\n",
    "mallard.performQuack()\n",
    "mallard.performFly()\n",
    "\n",
    "print(\"---\")\n",
    "\n",
    "mallard.setFlyBehavior(FlyNoWay())\n",
    "mallard.performFly()"
   ]
  },
  {
   "cell_type": "markdown",
   "metadata": {},
   "source": [
    "## Observer Pattern\n",
    "\n",
    "The Observer Pattern defines a one-to-many dependency between objects so that when one object changes state, all of its dependents are notified and updated automatically."
   ]
  },
  {
   "cell_type": "markdown",
   "metadata": {},
   "source": [
    "### Pull Model (2-Way Communication)\n",
    "\n",
    "- When the subject's state changes, it notifies its observers **that its state has changed**\n",
    "- If the observer is interested, it can call back for details by calling subject.getData()\n",
    "\n",
    "\n",
    "### Push Model (1-Way Communication)\n",
    "\n",
    "- When the subject's state changes, it notifies its observers **by sending detailed information about the update**, whether or not the Observer is interested or not\n",
    "- Hence, the observer never needs to call back\n",
    "\n"
   ]
  },
  {
   "cell_type": "markdown",
   "metadata": {},
   "source": [
    "### Benefits of Observer Pattern\n",
    "\n",
    "- Loose coupling"
   ]
  },
  {
   "cell_type": "markdown",
   "metadata": {},
   "source": [
    "### Skelly Code"
   ]
  },
  {
   "cell_type": "code",
   "execution_count": 36,
   "metadata": {},
   "outputs": [],
   "source": [
    "class AbstractSubject(ABC):\n",
    "    @abstractmethod\n",
    "    def register(self, observer):\n",
    "        pass\n",
    "    \n",
    "    @abstractmethod\n",
    "    def unregister(self, observer):\n",
    "        pass\n",
    "    \n",
    "    @abstractmethod\n",
    "    def notify(self):\n",
    "        pass\n",
    "    \n",
    "class AbstractObserver(ABC):\n",
    "    @abstractmethod\n",
    "    def update(self, subject):\n",
    "        pass"
   ]
  },
  {
   "cell_type": "markdown",
   "metadata": {},
   "source": [
    "### Pull Model"
   ]
  },
  {
   "cell_type": "code",
   "execution_count": 38,
   "metadata": {},
   "outputs": [
    {
     "name": "stdout",
     "output_type": "stream",
     "text": [
      "> ConcreteObserverA was notified of Subject's new state: 4\n",
      "> ConcreteObserverB was notified of Subject's new state: 4\n",
      "---\n",
      "> ConcreteObserverB was notified of Subject's new state: 8\n"
     ]
    }
   ],
   "source": [
    "class ConcreteSubject(AbstractSubject):\n",
    "    state = None\n",
    "    observers = []\n",
    "    \n",
    "    def register(self, observer):\n",
    "        self.observers.append(observer)\n",
    "        \n",
    "    def unregister(self, observer):\n",
    "        self.observers.remove(observer)\n",
    "    \n",
    "    def notify(self):\n",
    "        for observer in self.observers:\n",
    "            observer.update(self) # Subject passed as parameter\n",
    "            \n",
    "    def getState(self):\n",
    "        return self.state\n",
    "            \n",
    "    def doBusinessLogic(self):\n",
    "        self.state = random.randint(0, 10)\n",
    "        self.notify() # Notify when state changes\n",
    "        \n",
    "class ConcreteObserverA(AbstractObserver):\n",
    "    def update(self, subject):        \n",
    "        print(f\"> ConcreteObserverA was notified of Subject's new state: {subject.getState()}\")\n",
    "    \n",
    "class ConcreteObserverB(AbstractObserver):\n",
    "    def update(self, subject):\n",
    "        print(f\"> ConcreteObserverB was notified of Subject's new state: {subject.getState()}\")\n",
    "            \n",
    "subject = ConcreteSubject()\n",
    "\n",
    "# Register new observers\n",
    "observerA = ConcreteObserverA()\n",
    "subject.register(observerA)\n",
    "observerB = ConcreteObserverB()\n",
    "subject.register(observerB)\n",
    "\n",
    "subject.doBusinessLogic()\n",
    "\n",
    "print(\"---\")\n",
    "\n",
    "subject.unregister(observerA) # Unregister Observer A\n",
    "subject.doBusinessLogic()"
   ]
  },
  {
   "cell_type": "markdown",
   "metadata": {},
   "source": [
    "### Push Model\n",
    "\n",
    "Focus on the difference in the subject's **notify() method**, and that the observers' **update() methods** take in the subject's state - not the subject object itself."
   ]
  },
  {
   "cell_type": "code",
   "execution_count": 37,
   "metadata": {},
   "outputs": [
    {
     "name": "stdout",
     "output_type": "stream",
     "text": [
      "> ConcreteObserverA was notified of Subject's new state: 7\n",
      "> ConcreteObserverB was notified of Subject's new state: 7\n",
      "---\n",
      "> ConcreteObserverB was notified of Subject's new state: 7\n"
     ]
    }
   ],
   "source": [
    "class ConcreteSubject(AbstractSubject):\n",
    "    state = None\n",
    "    observers = []\n",
    "    \n",
    "    def register(self, observer):\n",
    "        self.observers.append(observer)\n",
    "        \n",
    "    def unregister(self, observer):\n",
    "        self.observers.remove(observer)\n",
    "    \n",
    "    def notify(self):\n",
    "        for observer in self.observers:\n",
    "            observer.update(self.state) # State passed in instead of Subject\n",
    "            \n",
    "    def doBusinessLogic(self):\n",
    "        self.state = random.randint(0, 10)\n",
    "        self.notify()\n",
    "        \n",
    "class ConcreteObserverA(AbstractObserver):\n",
    "    def update(self, state):        \n",
    "        print(f\"> ConcreteObserverA was notified of Subject's new state: {state}\")\n",
    "    \n",
    "class ConcreteObserverB(AbstractObserver):\n",
    "    def update(self, state):\n",
    "        print(f\"> ConcreteObserverB was notified of Subject's new state: {state}\")\n",
    "            \n",
    "subject = ConcreteSubject()\n",
    "\n",
    "# Register new observers\n",
    "observerA = ConcreteObserverA()\n",
    "subject.register(observerA)\n",
    "observerB = ConcreteObserverB()\n",
    "subject.register(observerB)\n",
    "\n",
    "subject.doBusinessLogic()\n",
    "\n",
    "print(\"---\")\n",
    "\n",
    "subject.unregister(observerA) # Unregister Observer A\n",
    "subject.doBusinessLogic()"
   ]
  }
 ],
 "metadata": {
  "kernelspec": {
   "display_name": "Python 3",
   "language": "python",
   "name": "python3"
  },
  "language_info": {
   "codemirror_mode": {
    "name": "ipython",
    "version": 3
   },
   "file_extension": ".py",
   "mimetype": "text/x-python",
   "name": "python",
   "nbconvert_exporter": "python",
   "pygments_lexer": "ipython3",
   "version": "3.6.8"
  }
 },
 "nbformat": 4,
 "nbformat_minor": 2
}
